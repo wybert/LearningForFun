{
 "cells": [
  {
   "cell_type": "markdown",
   "metadata": {},
   "source": [
    "#HowToDebugePythonProgrames"
   ]
  },
  {
   "cell_type": "markdown",
   "metadata": {},
   "source": [
    "当程序跑出来的结果和预想的不一样的时候怎么办呢？首先的思路就是按照自己的代码逻辑去打印一些变量信息，或者在ipython shell里面一句一句的验证代码的正确性。这里介绍一个debuge的工具叫:`ipdb。它是python的一个包。`"
   ]
  },
  {
   "cell_type": "markdown",
   "metadata": {},
   "source": [
    "##1.安装"
   ]
  },
  {
   "cell_type": "markdown",
   "metadata": {},
   "source": [
    "如果已经安装了ipython，那么不用去安装ipdb"
   ]
  },
  {
   "cell_type": "markdown",
   "metadata": {},
   "source": [
    "##2.运行调试"
   ]
  },
  {
   "cell_type": "markdown",
   "metadata": {},
   "source": [
    "1.假设我们调试的代码文件为：lu.py\n",
    "<div align=\"center\">\n",
    "    <img src=\"fig/debug1.png\" width=\"60%\">\n",
    "</div>\n",
    "\n",
    "2.在ipython shell里执行命令：`run -d lu.py` \n",
    "\n",
    "3.接下来会出现如下的界面，接下来就可以开始debuge了。这个界面里有两个比较重要的地方，图中1的位置代表程序正准备要运行到的位置，箭头2的位置则是一个ipdb的交互式的命令行，在这里可以键入一些命令，以控制程序接下来怎么运行或者去查看当下的环境变量。\n",
    "\n",
    "\n",
    "<div align=\"center\">\n",
    "    <img src=\"fig/debug2.png\" width=\"60%\">\n",
    "</div>\n"
   ]
  },
  {
   "cell_type": "markdown",
   "metadata": {
    "collapsed": false
   },
   "source": [
    "##3.如何调试"
   ]
  },
  {
   "cell_type": "markdown",
   "metadata": {},
   "source": [
    "#### 1.执行ipdb命令\n",
    "在上图箭头2的位置，试一下输入h，然后回车，这个会给出ipdb的所有命令以及帮助\n",
    "<div align=\"center\">\n",
    "    <img src=\"fig/debug3.png\" width=\"60%\">\n",
    "</div>\n",
    "\n",
    "了解这些命令的含义，直接键入h + 命令就可以了\n",
    "\n",
    "这里介绍两个常用的命令：\n",
    "\n",
    "- n:表示运行下一行代码或者一整个函数的\n",
    "- c:继续运行后面的代码知道代码结束\n",
    "- jump + 行数:运行到指定行\n",
    "\n",
    "#### 2.执行python命令\n",
    "\n",
    "如执行下面的python命令，这与在python命令行执行一样，如下图\n",
    "<div align=\"center\">\n",
    "    <img src=\"fig/debug4.png\" width=\"40%\">\n",
    "</div>\n",
    "\n",
    "注意，也能用tap键补全命令\n",
    "\n",
    "#### 3.交互式调试\n",
    "\n",
    "使用这些命令，可以运行到指定行也可以返回到指定行，可以对变量进行查看，也可以对变量进行修改测试。比如在上面说的`lu.py`程序的例子,第9行代码kinfe并没有被赋值，在调试的时候运行到这里出错，我们可以返回，然后在ipdb命令行下对kinfe进行赋值，然后再运行（如下图的过程）\n",
    "\n",
    "<div align=\"center\">\n",
    "    <img src=\"fig/debug5.png\" width=\"60%\">\n",
    "</div>\n",
    "\n"
   ]
  },
  {
   "cell_type": "markdown",
   "metadata": {},
   "source": [
    "## 4.在ipython notebook中调式"
   ]
  },
  {
   "cell_type": "markdown",
   "metadata": {},
   "source": [
    "在ipython notebook中调试一个cell直接在cell最前端加一个`%%debug`魔法命令就可以了。然后就会调用ipython的ipdb，如下面的代码示例,后面的输出是我调试的过程"
   ]
  },
  {
   "cell_type": "code",
   "execution_count": 6,
   "metadata": {
    "collapsed": false
   },
   "outputs": [
    {
     "name": "stdout",
     "output_type": "stream",
     "text": [
      "NOTE: Enter 'c' at the ipdb>  prompt to continue execution.\n",
      "> \u001b[1;32m<string>\u001b[0m(4)\u001b[0;36m<module>\u001b[1;34m()\u001b[0m\n",
      "\n",
      "ipdb> n\n",
      "> \u001b[1;32m<string>\u001b[0m(8)\u001b[0;36m<module>\u001b[1;34m()\u001b[0m\n",
      "\n",
      "ipdb> n\n",
      "> \u001b[1;32m<string>\u001b[0m(9)\u001b[0;36m<module>\u001b[1;34m()\u001b[0m\n",
      "\n",
      "ipdb> orange\n",
      "'stupid'\n",
      "ipdb> n\n",
      "eat your favorite fruit\n",
      "> \u001b[1;32m<string>\u001b[0m(10)\u001b[0;36m<module>\u001b[1;34m()\u001b[0m\n",
      "\n",
      "ipdb> knife=100\n",
      "ipdb> n\n",
      "> \u001b[1;32m<string>\u001b[0m(11)\u001b[0;36m<module>\u001b[1;34m()\u001b[0m\n",
      "\n",
      "ipdb> end\n",
      "100\n",
      "ipdb> n\n",
      "100\n",
      "--Return--\n",
      "None\n",
      "> \u001b[1;32m<string>\u001b[0m(11)\u001b[0;36m<module>\u001b[1;34m()\u001b[0m\n",
      "\n",
      "ipdb> n\n"
     ]
    }
   ],
   "source": [
    "%%debug\n",
    "# %load lu.py\n",
    "# encoding utf-8\n",
    "def heiapple(orange):\n",
    "    hei= 'eat'\n",
    "    apple = 'your favorite fruit'   \n",
    "    print hei,apple\n",
    "orange = 'stupid'\n",
    "heiapple(orange)\n",
    "end  = knife\n",
    "print end\n"
   ]
  }
 ],
 "metadata": {
  "kernelspec": {
   "display_name": "Python 2",
   "language": "python",
   "name": "python2"
  },
  "language_info": {
   "codemirror_mode": {
    "name": "ipython",
    "version": 2
   },
   "file_extension": ".py",
   "mimetype": "text/x-python",
   "name": "python",
   "nbconvert_exporter": "python",
   "pygments_lexer": "ipython2",
   "version": "2.7.10"
  }
 },
 "nbformat": 4,
 "nbformat_minor": 0
}
