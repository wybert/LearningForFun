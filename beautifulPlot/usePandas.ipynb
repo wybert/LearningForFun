{
 "cells": [
  {
   "cell_type": "markdown",
   "metadata": {},
   "source": [
    "# 使用pandas绘图"
   ]
  },
  {
   "cell_type": "markdown",
   "metadata": {},
   "source": [
    "## 0.pandas介绍"
   ]
  },
  {
   "cell_type": "markdown",
   "metadata": {},
   "source": [
    "pandas是一个很赞可以用于数据读取存写，数据处理和基本的数据统计和可视化的python包。下面的例子从几个方面来介绍pandas的基本使用\n",
    "\n",
    "---\n",
    "- 使用pandas读取数据\n",
    "- 使用pandas处理数据\n",
    "- 使用pandas进行基本可视化与分析"
   ]
  },
  {
   "cell_type": "markdown",
   "metadata": {},
   "source": [
    "# 1.使用pandas读取数据"
   ]
  },
  {
   "cell_type": "markdown",
   "metadata": {},
   "source": [
    "一般我们会有一些csv文件，或者excel文件，希望能顾快速的读取并处理，pandas提供了对很多常见数据格式的读写<a  href=http://pandas.pydata.org/pandas-docs/stable/visualization.html/> 更多详细内容可以参考这里</a>。下面代码演示如何读取csv数据。"
   ]
  },
  {
   "cell_type": "code",
   "execution_count": 9,
   "metadata": {
    "collapsed": false
   },
   "outputs": [],
   "source": [
    "import pandas as pd\n",
    "df1 = pd.read_csv('data/dataforexcies.csv')"
   ]
  },
  {
   "cell_type": "markdown",
   "metadata": {},
   "source": [
    "可以看出来，实际读取csv只要一行代码，确实很方便。那么df1是什么呢？我们来看一下"
   ]
  },
  {
   "cell_type": "code",
   "execution_count": 10,
   "metadata": {
    "collapsed": false
   },
   "outputs": [
    {
     "data": {
      "text/plain": [
       "pandas.core.frame.DataFrame"
      ]
     },
     "execution_count": 10,
     "metadata": {},
     "output_type": "execute_result"
    }
   ],
   "source": [
    "type(df1)"
   ]
  },
  {
   "cell_type": "markdown",
   "metadata": {},
   "source": [
    "看起来是pandas里定义的一个数据类型，叫`pandas.core.frame.DataFrame`,我们叫它DataFrame类型。这就是pandas中最经常看到的数据类型（`DataFrame`）。那到底什么是DataFrame？以及如何操作和使用它呢？<a href=http://pandas.pydata.org/pandas-docs/stable/dsintro.html#dataframe>详细参考这里</a>，这里我们简单的介绍下：DataFrame看起来就是和我们的Excel表一样的结构，如果用过Excel，那么理解DataFrame也一样。比如我们在ipython里输入df1，ipython 会显示它的值。"
   ]
  },
  {
   "cell_type": "code",
   "execution_count": 11,
   "metadata": {
    "collapsed": false
   },
   "outputs": [
    {
     "data": {
      "text/html": [
       "<div>\n",
       "<table border=\"1\" class=\"dataframe\">\n",
       "  <thead>\n",
       "    <tr style=\"text-align: right;\">\n",
       "      <th></th>\n",
       "      <th>id</th>\n",
       "      <th>a</th>\n",
       "      <th>b</th>\n",
       "      <th>c</th>\n",
       "      <th>d</th>\n",
       "    </tr>\n",
       "  </thead>\n",
       "  <tbody>\n",
       "    <tr>\n",
       "      <th>0</th>\n",
       "      <td>0</td>\n",
       "      <td>0.519560</td>\n",
       "      <td>0.098001</td>\n",
       "      <td>0.717732</td>\n",
       "      <td>0.215498</td>\n",
       "    </tr>\n",
       "    <tr>\n",
       "      <th>1</th>\n",
       "      <td>1</td>\n",
       "      <td>0.612361</td>\n",
       "      <td>0.549056</td>\n",
       "      <td>0.144109</td>\n",
       "      <td>0.750506</td>\n",
       "    </tr>\n",
       "    <tr>\n",
       "      <th>2</th>\n",
       "      <td>2</td>\n",
       "      <td>0.052797</td>\n",
       "      <td>0.580886</td>\n",
       "      <td>0.552579</td>\n",
       "      <td>0.479337</td>\n",
       "    </tr>\n",
       "    <tr>\n",
       "      <th>3</th>\n",
       "      <td>3</td>\n",
       "      <td>0.441298</td>\n",
       "      <td>0.353870</td>\n",
       "      <td>0.146157</td>\n",
       "      <td>0.788032</td>\n",
       "    </tr>\n",
       "    <tr>\n",
       "      <th>4</th>\n",
       "      <td>4</td>\n",
       "      <td>0.864006</td>\n",
       "      <td>0.175923</td>\n",
       "      <td>0.428471</td>\n",
       "      <td>0.146967</td>\n",
       "    </tr>\n",
       "    <tr>\n",
       "      <th>5</th>\n",
       "      <td>5</td>\n",
       "      <td>0.123659</td>\n",
       "      <td>0.059749</td>\n",
       "      <td>0.287601</td>\n",
       "      <td>0.939146</td>\n",
       "    </tr>\n",
       "    <tr>\n",
       "      <th>6</th>\n",
       "      <td>6</td>\n",
       "      <td>0.488267</td>\n",
       "      <td>0.748173</td>\n",
       "      <td>0.507685</td>\n",
       "      <td>0.916040</td>\n",
       "    </tr>\n",
       "    <tr>\n",
       "      <th>7</th>\n",
       "      <td>7</td>\n",
       "      <td>0.438814</td>\n",
       "      <td>0.608167</td>\n",
       "      <td>0.342375</td>\n",
       "      <td>0.404993</td>\n",
       "    </tr>\n",
       "    <tr>\n",
       "      <th>8</th>\n",
       "      <td>8</td>\n",
       "      <td>0.888500</td>\n",
       "      <td>0.032364</td>\n",
       "      <td>0.160007</td>\n",
       "      <td>0.830403</td>\n",
       "    </tr>\n",
       "    <tr>\n",
       "      <th>9</th>\n",
       "      <td>9</td>\n",
       "      <td>0.794677</td>\n",
       "      <td>0.860551</td>\n",
       "      <td>0.607981</td>\n",
       "      <td>0.044525</td>\n",
       "    </tr>\n",
       "  </tbody>\n",
       "</table>\n",
       "</div>"
      ],
      "text/plain": [
       "   id         a         b         c         d\n",
       "0   0  0.519560  0.098001  0.717732  0.215498\n",
       "1   1  0.612361  0.549056  0.144109  0.750506\n",
       "2   2  0.052797  0.580886  0.552579  0.479337\n",
       "3   3  0.441298  0.353870  0.146157  0.788032\n",
       "4   4  0.864006  0.175923  0.428471  0.146967\n",
       "5   5  0.123659  0.059749  0.287601  0.939146\n",
       "6   6  0.488267  0.748173  0.507685  0.916040\n",
       "7   7  0.438814  0.608167  0.342375  0.404993\n",
       "8   8  0.888500  0.032364  0.160007  0.830403\n",
       "9   9  0.794677  0.860551  0.607981  0.044525"
      ]
     },
     "execution_count": 11,
     "metadata": {},
     "output_type": "execute_result"
    }
   ],
   "source": [
    "df1"
   ]
  },
  {
   "cell_type": "markdown",
   "metadata": {},
   "source": [
    "可以看出来它被显示成了一个表"
   ]
  },
  {
   "cell_type": "markdown",
   "metadata": {},
   "source": [
    "#### 读取数据库中的值并把它变成 DataFrame"
   ]
  },
  {
   "cell_type": "code",
   "execution_count": 12,
   "metadata": {
    "collapsed": true
   },
   "outputs": [],
   "source": [
    "# import sys  \n",
    "import pandas as pd\n",
    "from pandas.io.json import json_normalize\n",
    "import pymongo\n",
    "\n",
    "## 解决中文编码问题\n",
    "# reload(sys)  \n",
    "# sys.setdefaultencoding('utf8')\n",
    "\n",
    "## 设置连接数据库\n",
    "def connectMongoDB(database,collection):\n",
    "    conn_mongo = pymongo.MongoClient(\"localhost\", 27017)\n",
    "    db_mongo = conn_mongo[database]\n",
    "    coll_mongo = db_mongo[collection]\n",
    "    return coll_mongo\n",
    "database='DaShangDi'\n",
    "collection = 'comment'\n",
    "DaShangDi_shop_comment = connectMongoDB(database,collection)\n",
    "\n",
    "## 得到DataFrame\n",
    "shop_comment = json_normalize([item for item in DaShangDi_shop_comment.find()])"
   ]
  },
  {
   "cell_type": "markdown",
   "metadata": {},
   "source": [
    "可以看到其实也只有一行代码，得到的shop_comment就是一个数据库中数据的表格（DataFrame）版本"
   ]
  },
  {
   "cell_type": "markdown",
   "metadata": {},
   "source": [
    "# 2.处理数据"
   ]
  },
  {
   "cell_type": "markdown",
   "metadata": {},
   "source": [
    "处理数据是pandas的主要功能，他像操纵excel一样来操纵DataFrame"
   ]
  },
  {
   "cell_type": "markdown",
   "metadata": {},
   "source": [
    "- 去掉某些列"
   ]
  },
  {
   "cell_type": "markdown",
   "metadata": {},
   "source": [
    "df1数据中id这一列前面似乎也有个id序号，要是我们把它删除，要怎么办呢"
   ]
  },
  {
   "cell_type": "code",
   "execution_count": 17,
   "metadata": {
    "collapsed": false
   },
   "outputs": [
    {
     "data": {
      "text/html": [
       "<div>\n",
       "<table border=\"1\" class=\"dataframe\">\n",
       "  <thead>\n",
       "    <tr style=\"text-align: right;\">\n",
       "      <th></th>\n",
       "      <th>a</th>\n",
       "      <th>b</th>\n",
       "      <th>c</th>\n",
       "      <th>d</th>\n",
       "    </tr>\n",
       "  </thead>\n",
       "  <tbody>\n",
       "    <tr>\n",
       "      <th>0</th>\n",
       "      <td>0.519560</td>\n",
       "      <td>0.098001</td>\n",
       "      <td>0.717732</td>\n",
       "      <td>0.215498</td>\n",
       "    </tr>\n",
       "    <tr>\n",
       "      <th>1</th>\n",
       "      <td>0.612361</td>\n",
       "      <td>0.549056</td>\n",
       "      <td>0.144109</td>\n",
       "      <td>0.750506</td>\n",
       "    </tr>\n",
       "    <tr>\n",
       "      <th>2</th>\n",
       "      <td>0.052797</td>\n",
       "      <td>0.580886</td>\n",
       "      <td>0.552579</td>\n",
       "      <td>0.479337</td>\n",
       "    </tr>\n",
       "    <tr>\n",
       "      <th>3</th>\n",
       "      <td>0.441298</td>\n",
       "      <td>0.353870</td>\n",
       "      <td>0.146157</td>\n",
       "      <td>0.788032</td>\n",
       "    </tr>\n",
       "    <tr>\n",
       "      <th>4</th>\n",
       "      <td>0.864006</td>\n",
       "      <td>0.175923</td>\n",
       "      <td>0.428471</td>\n",
       "      <td>0.146967</td>\n",
       "    </tr>\n",
       "    <tr>\n",
       "      <th>5</th>\n",
       "      <td>0.123659</td>\n",
       "      <td>0.059749</td>\n",
       "      <td>0.287601</td>\n",
       "      <td>0.939146</td>\n",
       "    </tr>\n",
       "    <tr>\n",
       "      <th>6</th>\n",
       "      <td>0.488267</td>\n",
       "      <td>0.748173</td>\n",
       "      <td>0.507685</td>\n",
       "      <td>0.916040</td>\n",
       "    </tr>\n",
       "    <tr>\n",
       "      <th>7</th>\n",
       "      <td>0.438814</td>\n",
       "      <td>0.608167</td>\n",
       "      <td>0.342375</td>\n",
       "      <td>0.404993</td>\n",
       "    </tr>\n",
       "    <tr>\n",
       "      <th>8</th>\n",
       "      <td>0.888500</td>\n",
       "      <td>0.032364</td>\n",
       "      <td>0.160007</td>\n",
       "      <td>0.830403</td>\n",
       "    </tr>\n",
       "    <tr>\n",
       "      <th>9</th>\n",
       "      <td>0.794677</td>\n",
       "      <td>0.860551</td>\n",
       "      <td>0.607981</td>\n",
       "      <td>0.044525</td>\n",
       "    </tr>\n",
       "  </tbody>\n",
       "</table>\n",
       "</div>"
      ],
      "text/plain": [
       "          a         b         c         d\n",
       "0  0.519560  0.098001  0.717732  0.215498\n",
       "1  0.612361  0.549056  0.144109  0.750506\n",
       "2  0.052797  0.580886  0.552579  0.479337\n",
       "3  0.441298  0.353870  0.146157  0.788032\n",
       "4  0.864006  0.175923  0.428471  0.146967\n",
       "5  0.123659  0.059749  0.287601  0.939146\n",
       "6  0.488267  0.748173  0.507685  0.916040\n",
       "7  0.438814  0.608167  0.342375  0.404993\n",
       "8  0.888500  0.032364  0.160007  0.830403\n",
       "9  0.794677  0.860551  0.607981  0.044525"
      ]
     },
     "execution_count": 17,
     "metadata": {},
     "output_type": "execute_result"
    }
   ],
   "source": [
    "df1 = df1[['a','b','c','d']]\n",
    "df1"
   ]
  },
  {
   "cell_type": "markdown",
   "metadata": {},
   "source": [
    "- 选取某些行"
   ]
  },
  {
   "cell_type": "code",
   "execution_count": 21,
   "metadata": {
    "collapsed": false
   },
   "outputs": [
    {
     "data": {
      "text/html": [
       "<div>\n",
       "<table border=\"1\" class=\"dataframe\">\n",
       "  <thead>\n",
       "    <tr style=\"text-align: right;\">\n",
       "      <th></th>\n",
       "      <th>a</th>\n",
       "      <th>b</th>\n",
       "      <th>c</th>\n",
       "      <th>d</th>\n",
       "    </tr>\n",
       "  </thead>\n",
       "  <tbody>\n",
       "    <tr>\n",
       "      <th>0</th>\n",
       "      <td>0.519560</td>\n",
       "      <td>0.098001</td>\n",
       "      <td>0.717732</td>\n",
       "      <td>0.215498</td>\n",
       "    </tr>\n",
       "    <tr>\n",
       "      <th>1</th>\n",
       "      <td>0.612361</td>\n",
       "      <td>0.549056</td>\n",
       "      <td>0.144109</td>\n",
       "      <td>0.750506</td>\n",
       "    </tr>\n",
       "    <tr>\n",
       "      <th>2</th>\n",
       "      <td>0.052797</td>\n",
       "      <td>0.580886</td>\n",
       "      <td>0.552579</td>\n",
       "      <td>0.479337</td>\n",
       "    </tr>\n",
       "    <tr>\n",
       "      <th>3</th>\n",
       "      <td>0.441298</td>\n",
       "      <td>0.353870</td>\n",
       "      <td>0.146157</td>\n",
       "      <td>0.788032</td>\n",
       "    </tr>\n",
       "    <tr>\n",
       "      <th>4</th>\n",
       "      <td>0.864006</td>\n",
       "      <td>0.175923</td>\n",
       "      <td>0.428471</td>\n",
       "      <td>0.146967</td>\n",
       "    </tr>\n",
       "  </tbody>\n",
       "</table>\n",
       "</div>"
      ],
      "text/plain": [
       "          a         b         c         d\n",
       "0  0.519560  0.098001  0.717732  0.215498\n",
       "1  0.612361  0.549056  0.144109  0.750506\n",
       "2  0.052797  0.580886  0.552579  0.479337\n",
       "3  0.441298  0.353870  0.146157  0.788032\n",
       "4  0.864006  0.175923  0.428471  0.146967"
      ]
     },
     "execution_count": 21,
     "metadata": {},
     "output_type": "execute_result"
    }
   ],
   "source": [
    "## 这样会选取前五行\n",
    "df1 = df1[:5]\n",
    "df1"
   ]
  },
  {
   "cell_type": "markdown",
   "metadata": {},
   "source": [
    "- 添加列"
   ]
  },
  {
   "cell_type": "code",
   "execution_count": 25,
   "metadata": {
    "collapsed": false
   },
   "outputs": [
    {
     "data": {
      "text/html": [
       "<div>\n",
       "<table border=\"1\" class=\"dataframe\">\n",
       "  <thead>\n",
       "    <tr style=\"text-align: right;\">\n",
       "      <th></th>\n",
       "      <th>a</th>\n",
       "      <th>b</th>\n",
       "      <th>c</th>\n",
       "      <th>d</th>\n",
       "      <th>Lu</th>\n",
       "    </tr>\n",
       "  </thead>\n",
       "  <tbody>\n",
       "    <tr>\n",
       "      <th>0</th>\n",
       "      <td>0.519560</td>\n",
       "      <td>0.098001</td>\n",
       "      <td>0.717732</td>\n",
       "      <td>0.215498</td>\n",
       "      <td>2.154977</td>\n",
       "    </tr>\n",
       "    <tr>\n",
       "      <th>1</th>\n",
       "      <td>0.612361</td>\n",
       "      <td>0.549056</td>\n",
       "      <td>0.144109</td>\n",
       "      <td>0.750506</td>\n",
       "      <td>7.505056</td>\n",
       "    </tr>\n",
       "    <tr>\n",
       "      <th>2</th>\n",
       "      <td>0.052797</td>\n",
       "      <td>0.580886</td>\n",
       "      <td>0.552579</td>\n",
       "      <td>0.479337</td>\n",
       "      <td>4.793366</td>\n",
       "    </tr>\n",
       "    <tr>\n",
       "      <th>3</th>\n",
       "      <td>0.441298</td>\n",
       "      <td>0.353870</td>\n",
       "      <td>0.146157</td>\n",
       "      <td>0.788032</td>\n",
       "      <td>7.880316</td>\n",
       "    </tr>\n",
       "    <tr>\n",
       "      <th>4</th>\n",
       "      <td>0.864006</td>\n",
       "      <td>0.175923</td>\n",
       "      <td>0.428471</td>\n",
       "      <td>0.146967</td>\n",
       "      <td>1.469668</td>\n",
       "    </tr>\n",
       "  </tbody>\n",
       "</table>\n",
       "</div>"
      ],
      "text/plain": [
       "          a         b         c         d        Lu\n",
       "0  0.519560  0.098001  0.717732  0.215498  2.154977\n",
       "1  0.612361  0.549056  0.144109  0.750506  7.505056\n",
       "2  0.052797  0.580886  0.552579  0.479337  4.793366\n",
       "3  0.441298  0.353870  0.146157  0.788032  7.880316\n",
       "4  0.864006  0.175923  0.428471  0.146967  1.469668"
      ]
     },
     "execution_count": 25,
     "metadata": {},
     "output_type": "execute_result"
    }
   ],
   "source": [
    "# 为df1添加列Lu，它的值是d列的对应值的10倍\n",
    "df1['Lu']=df1['d']*10\n",
    "df1"
   ]
  },
  {
   "cell_type": "markdown",
   "metadata": {},
   "source": [
    "- 更多"
   ]
  },
  {
   "cell_type": "markdown",
   "metadata": {},
   "source": [
    "当然不止这些处理，其实有非常多有用的处理，非常<a href=https://github.com/wybert/pandas-cookbook> 推荐这个教程 </a>"
   ]
  },
  {
   "cell_type": "markdown",
   "metadata": {},
   "source": [
    "# 3.使用pandas进行基本可视化与分析"
   ]
  },
  {
   "cell_type": "markdown",
   "metadata": {},
   "source": [
    "还是使用df1这个DataFrame作为例子"
   ]
  },
  {
   "cell_type": "markdown",
   "metadata": {},
   "source": [
    "- 基本描述统计"
   ]
  },
  {
   "cell_type": "code",
   "execution_count": 29,
   "metadata": {
    "collapsed": false
   },
   "outputs": [
    {
     "data": {
      "text/html": [
       "<div>\n",
       "<table border=\"1\" class=\"dataframe\">\n",
       "  <thead>\n",
       "    <tr style=\"text-align: right;\">\n",
       "      <th></th>\n",
       "      <th>a</th>\n",
       "      <th>b</th>\n",
       "      <th>c</th>\n",
       "      <th>d</th>\n",
       "      <th>Lu</th>\n",
       "    </tr>\n",
       "  </thead>\n",
       "  <tbody>\n",
       "    <tr>\n",
       "      <th>count</th>\n",
       "      <td>5.000000</td>\n",
       "      <td>5.000000</td>\n",
       "      <td>5.000000</td>\n",
       "      <td>5.000000</td>\n",
       "      <td>5.000000</td>\n",
       "    </tr>\n",
       "    <tr>\n",
       "      <th>mean</th>\n",
       "      <td>0.498005</td>\n",
       "      <td>0.351547</td>\n",
       "      <td>0.397809</td>\n",
       "      <td>0.476068</td>\n",
       "      <td>4.760676</td>\n",
       "    </tr>\n",
       "    <tr>\n",
       "      <th>std</th>\n",
       "      <td>0.295349</td>\n",
       "      <td>0.216068</td>\n",
       "      <td>0.252457</td>\n",
       "      <td>0.295319</td>\n",
       "      <td>2.953187</td>\n",
       "    </tr>\n",
       "    <tr>\n",
       "      <th>min</th>\n",
       "      <td>0.052797</td>\n",
       "      <td>0.098001</td>\n",
       "      <td>0.144109</td>\n",
       "      <td>0.146967</td>\n",
       "      <td>1.469668</td>\n",
       "    </tr>\n",
       "    <tr>\n",
       "      <th>25%</th>\n",
       "      <td>0.441298</td>\n",
       "      <td>0.175923</td>\n",
       "      <td>0.146157</td>\n",
       "      <td>0.215498</td>\n",
       "      <td>2.154977</td>\n",
       "    </tr>\n",
       "    <tr>\n",
       "      <th>50%</th>\n",
       "      <td>0.519560</td>\n",
       "      <td>0.353870</td>\n",
       "      <td>0.428471</td>\n",
       "      <td>0.479337</td>\n",
       "      <td>4.793366</td>\n",
       "    </tr>\n",
       "    <tr>\n",
       "      <th>75%</th>\n",
       "      <td>0.612361</td>\n",
       "      <td>0.549056</td>\n",
       "      <td>0.552579</td>\n",
       "      <td>0.750506</td>\n",
       "      <td>7.505056</td>\n",
       "    </tr>\n",
       "    <tr>\n",
       "      <th>max</th>\n",
       "      <td>0.864006</td>\n",
       "      <td>0.580886</td>\n",
       "      <td>0.717732</td>\n",
       "      <td>0.788032</td>\n",
       "      <td>7.880316</td>\n",
       "    </tr>\n",
       "  </tbody>\n",
       "</table>\n",
       "</div>"
      ],
      "text/plain": [
       "              a         b         c         d        Lu\n",
       "count  5.000000  5.000000  5.000000  5.000000  5.000000\n",
       "mean   0.498005  0.351547  0.397809  0.476068  4.760676\n",
       "std    0.295349  0.216068  0.252457  0.295319  2.953187\n",
       "min    0.052797  0.098001  0.144109  0.146967  1.469668\n",
       "25%    0.441298  0.175923  0.146157  0.215498  2.154977\n",
       "50%    0.519560  0.353870  0.428471  0.479337  4.793366\n",
       "75%    0.612361  0.549056  0.552579  0.750506  7.505056\n",
       "max    0.864006  0.580886  0.717732  0.788032  7.880316"
      ]
     },
     "execution_count": 29,
     "metadata": {},
     "output_type": "execute_result"
    }
   ],
   "source": [
    "## 基本描述统计\n",
    "df1.describe()"
   ]
  },
  {
   "cell_type": "markdown",
   "metadata": {},
   "source": [
    "describe()返回了每一列值的计数，均值，标注差（std是标准差对吧），最小值，几个分位数，最大值"
   ]
  },
  {
   "cell_type": "code",
   "execution_count": 30,
   "metadata": {
    "collapsed": false
   },
   "outputs": [
    {
     "data": {
      "text/plain": [
       "a     float64\n",
       "b     float64\n",
       "c     float64\n",
       "d     float64\n",
       "Lu    float64\n",
       "dtype: object"
      ]
     },
     "execution_count": 30,
     "metadata": {},
     "output_type": "execute_result"
    }
   ],
   "source": [
    "## 数据类型查看\n",
    "df1.dtypes"
   ]
  },
  {
   "cell_type": "markdown",
   "metadata": {},
   "source": [
    "- 基本描述统计"
   ]
  },
  {
   "cell_type": "markdown",
   "metadata": {},
   "source": [
    "pandas封装了matplotlib所以更加方便使用一些，详细的<a href=http://pandas.pydata.org/pandas-docs/stable/visualization.html>参考这里</a>，这里简要的说明柱状图和折线图的绘制"
   ]
  },
  {
   "cell_type": "code",
   "execution_count": 36,
   "metadata": {
    "collapsed": false
   },
   "outputs": [
    {
     "data": {
      "image/png": "[encoded data removed]",
      "text/plain": [
       "<matplotlib.figure.Figure at 0x15307828>"
      ]
     },
     "metadata": {},
     "output_type": "display_data"
    }
   ],
   "source": [
    "## 柱状图\n",
    "%matplotlib inline\n",
    "# import matplotlib.pyplot as plt\n",
    "import matplotlib\n",
    "matplotlib.style.use('ggplot')\n",
    "\n",
    "## 绘图\n",
    "df1.plot(kind='bar',title='bar plot');"
   ]
  },
  {
   "cell_type": "code",
   "execution_count": 38,
   "metadata": {
    "collapsed": false
   },
   "outputs": [
    {
     "data": {
      "image/png": "[encoded data removed]",
      "text/plain": [
       "<matplotlib.figure.Figure at 0x24d55a90>"
      ]
     },
     "metadata": {},
     "output_type": "display_data"
    }
   ],
   "source": [
    "df1[['a','b','c']].plot(kind='bar',title='bar plot');"
   ]
  },
  {
   "cell_type": "code",
   "execution_count": 42,
   "metadata": {
    "collapsed": false
   },
   "outputs": [
    {
     "data": {
      "image/png": "[encoded data removed]",
      "text/plain": [
       "<matplotlib.figure.Figure at 0x2a507908>"
      ]
     },
     "metadata": {},
     "output_type": "display_data"
    }
   ],
   "source": [
    "## 绘制折现图\n",
    "df1[['a','b','c']].plot(kind='line',title='line plot');"
   ]
  },
  {
   "cell_type": "markdown",
   "metadata": {},
   "source": [
    "---\n",
    "\n",
    "下面的这些博客写的很好，可以阅读下\n",
    "- <a href=http://manishamde.github.io/blog/2013/03/07/pandas-and-python-top-10/> pandas-and-python-top-10 </a>"
   ]
  }
 ],
 "metadata": {
  "kernelspec": {
   "display_name": "Python 2",
   "language": "python",
   "name": "python2"
  },
  "language_info": {
   "codemirror_mode": {
    "name": "ipython",
    "version": 2
   },
   "file_extension": ".py",
   "mimetype": "text/x-python",
   "name": "python",
   "nbconvert_exporter": "python",
   "pygments_lexer": "ipython2",
   "version": "2.7.10"
  }
 },
 "nbformat": 4,
 "nbformat_minor": 0
}
