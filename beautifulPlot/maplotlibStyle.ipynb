{
 "cells": [
  {
   "cell_type": "markdown",
   "metadata": {},
   "source": [
    "# 如何改变默认的matplotlib的绘图风格"
   ]
  },
  {
   "cell_type": "markdown",
   "metadata": {},
   "source": [
    "matplotlib 有个style模块来处理有关style的设置，当我们使用一个风格的时候就直接设置一下就可以了"
   ]
  },
  {
   "cell_type": "markdown",
   "metadata": {},
   "source": [
    "## 1.查看已有的style类型"
   ]
  },
  {
   "cell_type": "code",
   "execution_count": 1,
   "metadata": {
    "collapsed": false
   },
   "outputs": [
    {
     "data": {
      "text/plain": [
       "[u'seaborn-darkgrid',\n",
       " u'seaborn-notebook',\n",
       " u'dark_background',\n",
       " u'fivethirtyeight',\n",
       " u'seaborn-colorblind',\n",
       " u'bitstream-vera-sans',\n",
       " u'arial',\n",
       " u'seaborn-bright',\n",
       " u'seaborn-poster',\n",
       " u'seaborn-muted',\n",
       " u'seaborn-paper',\n",
       " u'seaborn-white',\n",
       " u'ggplot-mod',\n",
       " u'seaborn-pastel',\n",
       " u'seaborn-dark',\n",
       " u'latex',\n",
       " u'seaborn-ticks',\n",
       " u'bmh',\n",
       " u'seaborn-talk',\n",
       " u'grayscale',\n",
       " u'ggplot',\n",
       " u'seaborn-deep',\n",
       " u'seaborn-whitegrid',\n",
       " u'times',\n",
       " u'seaborn-dark-palette']"
      ]
     },
     "execution_count": 1,
     "metadata": {},
     "output_type": "execute_result"
    }
   ],
   "source": [
    "import matplotlib.pyplot as plt\n",
    "plt.style.available"
   ]
  },
  {
   "cell_type": "markdown",
   "metadata": {},
   "source": [
    "由于我后来安装了其它的一些style，所以有很多，默认的matplotlib里仅有几个"
   ]
  },
  {
   "cell_type": "markdown",
   "metadata": {},
   "source": [
    "## 2.如何使用style"
   ]
  },
  {
   "cell_type": "code",
   "execution_count": 7,
   "metadata": {
    "collapsed": false
   },
   "outputs": [
    {
     "data": {
      "image/png": "[encoded data removed]",
      "text/plain": [
       "<matplotlib.figure.Figure at 0xc2a0630>"
      ]
     },
     "metadata": {},
     "output_type": "display_data"
    }
   ],
   "source": [
    "%matplotlib inline\n",
    "import pandas as pd\n",
    "import matplotlib.pyplot as plt\n",
    "\n",
    "## 此行代码设置绘图style\n",
    "plt.style.use('ggplot')\n",
    "\n",
    "## 下面是常规的绘图命令\n",
    "df1 = pd.read_csv('data/dataforexcies.csv')\n",
    "df1 = df1[['a','b']][:5]\n",
    "df1.plot(kind='bar',title='bar plot');"
   ]
  },
  {
   "cell_type": "markdown",
   "metadata": {},
   "source": [
    "## 3.扩展style"
   ]
  },
  {
   "cell_type": "markdown",
   "metadata": {
    "collapsed": false
   },
   "source": [
    "github<a https://github.com/petebachant/mplstyles>有些</a>共享的style可以下载来安装,安装好之后就可以使用了"
   ]
  },
  {
   "cell_type": "code",
   "execution_count": 2,
   "metadata": {
    "collapsed": false
   },
   "outputs": [
    {
     "data": {
      "text/plain": [
       "[u'seaborn-darkgrid',\n",
       " u'seaborn-notebook',\n",
       " u'dark_background',\n",
       " u'fivethirtyeight',\n",
       " u'seaborn-colorblind',\n",
       " u'bitstream-vera-sans',\n",
       " u'arial',\n",
       " u'seaborn-bright',\n",
       " u'seaborn-poster',\n",
       " u'seaborn-muted',\n",
       " u'seaborn-paper',\n",
       " u'seaborn-white',\n",
       " u'ggplot-mod',\n",
       " u'seaborn-pastel',\n",
       " u'seaborn-dark',\n",
       " u'latex',\n",
       " u'seaborn-ticks',\n",
       " u'bmh',\n",
       " u'seaborn-talk',\n",
       " u'grayscale',\n",
       " u'ggplot',\n",
       " u'seaborn-deep',\n",
       " u'seaborn-whitegrid',\n",
       " u'times',\n",
       " u'seaborn-dark-palette']"
      ]
     },
     "execution_count": 2,
     "metadata": {},
     "output_type": "execute_result"
    }
   ],
   "source": [
    "plt.style.reload_library()\n",
    "plt.style.available"
   ]
  },
  {
   "cell_type": "code",
   "execution_count": 5,
   "metadata": {
    "collapsed": false
   },
   "outputs": [
    {
     "data": {
      "image/png": "[encoded data removed]",
      "text/plain": [
       "<matplotlib.figure.Figure at 0xa66d978>"
      ]
     },
     "metadata": {},
     "output_type": "display_data"
    }
   ],
   "source": [
    "## 此行代码设置绘图style\n",
    "plt.style.use('seaborn-dark-palette')\n",
    "\n",
    "## 下面是常规的绘图命令\n",
    "df1.plot(kind='bar',title='bar plot');\n"
   ]
  }
 ],
 "metadata": {
  "kernelspec": {
   "display_name": "Python 2",
   "language": "python",
   "name": "python2"
  },
  "language_info": {
   "codemirror_mode": {
    "name": "ipython",
    "version": 2
   },
   "file_extension": ".py",
   "mimetype": "text/x-python",
   "name": "python",
   "nbconvert_exporter": "python",
   "pygments_lexer": "ipython2",
   "version": "2.7.10"
  }
 },
 "nbformat": 4,
 "nbformat_minor": 0
}
